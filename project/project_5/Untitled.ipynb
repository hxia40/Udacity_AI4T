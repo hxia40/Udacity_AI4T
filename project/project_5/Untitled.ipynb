{
 "cells": [
  {
   "cell_type": "code",
   "execution_count": 2,
   "metadata": {},
   "outputs": [],
   "source": [
    "import numpy as np\n"
   ]
  },
  {
   "cell_type": "code",
   "execution_count": 4,
   "metadata": {},
   "outputs": [
    {
     "name": "stdout",
     "output_type": "stream",
     "text": [
      "Collecting torch==1.7.0\n",
      "  Downloading https://files.pythonhosted.org/packages/24/44/2b66a46b8ce7895a96db1a6dc525d9a9910353f7ca323bf04d0753603f18/torch-1.7.0-cp37-cp37m-win_amd64.whl (184.0MB)\n"
     ]
    },
    {
     "name": "stderr",
     "output_type": "stream",
     "text": [
      "ERROR: Exception:\n",
      "Traceback (most recent call last):\n",
      "  File \"C:\\Users\\hxi00\\Anaconda\\lib\\site-packages\\pip\\_internal\\cli\\base_command.py\", line 188, in main\n",
      "    status = self.run(options, args)\n",
      "  File \"C:\\Users\\hxi00\\Anaconda\\lib\\site-packages\\pip\\_internal\\commands\\install.py\", line 345, in run\n",
      "    resolver.resolve(requirement_set)\n",
      "  File \"C:\\Users\\hxi00\\Anaconda\\lib\\site-packages\\pip\\_internal\\legacy_resolve.py\", line 196, in resolve\n",
      "    self._resolve_one(requirement_set, req)\n",
      "  File \"C:\\Users\\hxi00\\Anaconda\\lib\\site-packages\\pip\\_internal\\legacy_resolve.py\", line 362, in _resolve_one\n",
      "    dist = abstract_dist.get_pkg_resources_distribution()\n",
      "  File \"C:\\Users\\hxi00\\Anaconda\\lib\\site-packages\\pip\\_internal\\distributions\\wheel.py\", line 14, in get_pkg_resources_distribution\n",
      "    self.req.source_dir))[0]\n",
      "IndexError: list index out of range\n"
     ]
    }
   ],
   "source": [
    "import sys\n",
    "!{sys.executable} -m pip install torch==1.7.1\n",
    "\n"
   ]
  },
  {
   "cell_type": "code",
   "execution_count": null,
   "metadata": {},
   "outputs": [],
   "source": [
    "!{sys.executable} -m pip install torchvision"
   ]
  },
  {
   "cell_type": "code",
   "execution_count": 7,
   "metadata": {},
   "outputs": [],
   "source": [
    "import torch\n",
    "import torchvision"
   ]
  },
  {
   "cell_type": "code",
   "execution_count": 8,
   "metadata": {},
   "outputs": [
    {
     "name": "stdout",
     "output_type": "stream",
     "text": [
      "tensor([[1, 2],\n",
      "        [3, 4]])\n"
     ]
    }
   ],
   "source": [
    "data = [[1, 2],[3, 4]]\n",
    "x_data = torch.tensor(data)\n",
    "print(x_data)"
   ]
  },
  {
   "cell_type": "code",
   "execution_count": 18,
   "metadata": {},
   "outputs": [
    {
     "name": "stdout",
     "output_type": "stream",
     "text": [
      "tensor([[0.4039, 0.8429],\n",
      "        [0.0861, 0.5394]])\n"
     ]
    }
   ],
   "source": [
    "x_rand = torch.rand_like(x_data, dtype=torch.float)\n",
    "print(x_rand)"
   ]
  },
  {
   "cell_type": "code",
   "execution_count": 26,
   "metadata": {},
   "outputs": [
    {
     "name": "stdout",
     "output_type": "stream",
     "text": [
      "tensor([[0.2181, 0.7065, 0.1902],\n",
      "        [0.3521, 0.5216, 0.7754]]) \n",
      " tensor([[0., 0., 0.],\n",
      "        [0., 0., 0.]])\n"
     ]
    }
   ],
   "source": [
    "shape = (2,3,)\n",
    "rand_tensor = torch.rand(shape)\n",
    "zero_tensor = torch.zeros(shape)\n",
    "print(rand_tensor, \"\\n\",zero_tensor)"
   ]
  },
  {
   "cell_type": "code",
   "execution_count": 30,
   "metadata": {},
   "outputs": [
    {
     "name": "stdout",
     "output_type": "stream",
     "text": [
      "tensor([[0., 2., 0., 0.],\n",
      "        [0., 2., 0., 0.],\n",
      "        [0., 2., 0., 0.],\n",
      "        [0., 2., 0., 0.]])\n"
     ]
    }
   ],
   "source": [
    "zero_tensor = torch.zeros(4,4)\n",
    "zero_tensor[:, 1] = 2\n",
    "print(zero_tensor)"
   ]
  },
  {
   "cell_type": "code",
   "execution_count": 31,
   "metadata": {},
   "outputs": [],
   "source": [
    "if torch.cuda.is_available():\n",
    "  tensor = tensor.to('cuda')"
   ]
  },
  {
   "cell_type": "code",
   "execution_count": 35,
   "metadata": {},
   "outputs": [
    {
     "name": "stdout",
     "output_type": "stream",
     "text": [
      "tensor([[0., 2., 0., 0.],\n",
      "        [0., 2., 0., 0.],\n",
      "        [0., 2., 0., 0.],\n",
      "        [0., 2., 0., 0.],\n",
      "        [0., 2., 0., 0.],\n",
      "        [0., 2., 0., 0.],\n",
      "        [0., 2., 0., 0.],\n",
      "        [0., 2., 0., 0.]])\n"
     ]
    }
   ],
   "source": [
    "t1 = torch.cat([zero_tensor, zero_tensor], dim = 0)\n",
    "print(t1)"
   ]
  },
  {
   "cell_type": "code",
   "execution_count": 40,
   "metadata": {},
   "outputs": [
    {
     "name": "stdout",
     "output_type": "stream",
     "text": [
      "tensor([[ 0., 16.,  0.,  0.],\n",
      "        [ 0., 16.,  0.,  0.],\n",
      "        [ 0., 16.,  0.,  0.],\n",
      "        [ 0., 16.,  0.,  0.]])\n",
      "tensor([[0., 4., 0., 0.],\n",
      "        [0., 4., 0., 0.],\n",
      "        [0., 4., 0., 0.],\n",
      "        [0., 4., 0., 0.]])\n"
     ]
    }
   ],
   "source": [
    "t_mul = zero_tensor * t_mul\n",
    "print(t_mul)\n",
    "t_matmul = zero_tensor.matmul(zero_tensor)\n",
    "print(t_matmul)"
   ]
  },
  {
   "cell_type": "code",
   "execution_count": 45,
   "metadata": {},
   "outputs": [
    {
     "name": "stdout",
     "output_type": "stream",
     "text": [
      "tensor([[15., 31., 15., 15.],\n",
      "        [15., 31., 15., 15.],\n",
      "        [15., 31., 15., 15.],\n",
      "        [15., 31., 15., 15.]])\n",
      "tensor([[20., 36., 20., 20.],\n",
      "        [20., 36., 20., 20.],\n",
      "        [20., 36., 20., 20.],\n",
      "        [20., 36., 20., 20.]])\n",
      "tensor([[20., 20., 20., 20.],\n",
      "        [36., 36., 36., 36.],\n",
      "        [20., 20., 20., 20.],\n",
      "        [20., 20., 20., 20.]])\n"
     ]
    }
   ],
   "source": [
    "print(t_mul)\n",
    "t_mul.add_(5)\n",
    "print(t_mul)\n",
    "print(t_mul.t_())"
   ]
  },
  {
   "cell_type": "code",
   "execution_count": 47,
   "metadata": {},
   "outputs": [
    {
     "name": "stdout",
     "output_type": "stream",
     "text": [
      "tensor([[2., 2., 2., 2., 2.],\n",
      "        [2., 2., 2., 2., 2.],\n",
      "        [2., 2., 2., 2., 2.],\n",
      "        [2., 2., 2., 2., 2.],\n",
      "        [2., 2., 2., 2., 2.]])\n",
      "[[2. 2. 2. 2. 2.]\n",
      " [2. 2. 2. 2. 2.]\n",
      " [2. 2. 2. 2. 2.]\n",
      " [2. 2. 2. 2. 2.]\n",
      " [2. 2. 2. 2. 2.]]\n"
     ]
    }
   ],
   "source": [
    "t = torch.ones(5,5)\n",
    "t.add_(1)\n",
    "print(t)\n",
    "n = t.numpy()\n",
    "print(n)"
   ]
  },
  {
   "cell_type": "code",
   "execution_count": 50,
   "metadata": {},
   "outputs": [
    {
     "name": "stdout",
     "output_type": "stream",
     "text": [
      "[[2. 2. 2. 2.]\n",
      " [2. 2. 2. 2.]\n",
      " [2. 2. 2. 2.]\n",
      " [2. 2. 2. 2.]\n",
      " [2. 2. 2. 2.]]\n",
      "tensor([[2., 2., 2., 2.],\n",
      "        [2., 2., 2., 2.],\n",
      "        [2., 2., 2., 2.],\n",
      "        [2., 2., 2., 2.],\n",
      "        [2., 2., 2., 2.]], dtype=torch.float64)\n"
     ]
    }
   ],
   "source": [
    "n = np.ones((5,4))\n",
    "np.add(n, 1, out = n)\n",
    "print(n)\n",
    "t = torch.from_numpy(n)\n",
    "print(t)"
   ]
  },
  {
   "cell_type": "code",
   "execution_count": 1,
   "metadata": {},
   "outputs": [
    {
     "name": "stderr",
     "output_type": "stream",
     "text": [
      "'{sys.executable}' is not recognized as an internal or external command,\n",
      "operable program or batch file.\n"
     ]
    }
   ],
   "source": [
    "\n"
   ]
  },
  {
   "cell_type": "code",
   "execution_count": null,
   "metadata": {},
   "outputs": [],
   "source": []
  }
 ],
 "metadata": {
  "kernelspec": {
   "display_name": "Python 3",
   "language": "python",
   "name": "python3"
  },
  "language_info": {
   "codemirror_mode": {
    "name": "ipython",
    "version": 3
   },
   "file_extension": ".py",
   "mimetype": "text/x-python",
   "name": "python",
   "nbconvert_exporter": "python",
   "pygments_lexer": "ipython3",
   "version": "3.7.4"
  }
 },
 "nbformat": 4,
 "nbformat_minor": 2
}
